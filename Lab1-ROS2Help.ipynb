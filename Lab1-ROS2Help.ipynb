{
 "cells": [
  {
   "cell_type": "markdown",
   "id": "8706aa3b",
   "metadata": {},
   "source": [
    "# EECE 5554 Lab 1: Extra Help with ROS2\n",
    "\n",
    "\n",
    "This Jupyter Notebook goes through some of the sub-goals towards writing a publisher node. It assumes you already have a driver that can:\n",
    "\n",
    "- Read in and parse a GPGGA string into latitude, longitude, UTC, and HDOP\n",
    "- Convert latitude and longitude into UTM values using the UTM package "
   ]
  },
  {
   "cell_type": "markdown",
   "id": "5ecdd570",
   "metadata": {},
   "source": [
    "### Step 0: Set up your ROS2 workspace and make the gps_driver package\n",
    "\n",
    "If you are comfortable with ROS2 workspaces, you will need to create two packages: one Cpp package for your custom message (call it something like <cde>custom_msgs</code>), and one Python package called gnss_driver package with dependencies <code>std_msgs rclpy custom_msgs</code>. \n",
    "\n",
    "If you are not comfortable with ROS2 workspaces, here's a step by step:\n",
    "- Go to your ROS2 workspace that you created in Lab 0 with <code>cd ~/EECE5554/src</code>\n",
    "- Make a new package using CMake\n",
    "- Make a new package using the <code>ros2 pkg create</code> command that you learned about in the Lab 0 ROS2 tutorial. You should call it <code>gnss_driver</code> and it should have the dependencies of <code>std_msgs rclpy custom_msgs</code>. \n",
    "\n",
    "Check your <code>CMakeLists.txt</code> and <code>package.xml</code> files within <code>~/EECE5554/src/gnss_driver</code> to make any adjustments, as you did in the ROS2 Lab 0 tutorial.\n",
    "\n",
    "Migrate or create your standalone_driver.py file within <code>~/EECE/src/gnss_driver/gnss_driver/</code>."
   ]
  },
  {
   "cell_type": "markdown",
   "id": "5c1f176b",
   "metadata": {},
   "source": [
    "### Step 1: Make a custom GPS message\n",
    "\n",
    "Make directory <code>msg/</code> within <code>~/ros2_ws/src/custom_msgs/</code>.\n",
    "\n",
    "Make a custom GPS message named <code>Customgnss.msg</code> within this directory with the following fields: \n",
    "- header (type: Header)\n",
    "- latitude (type: float64)\n",
    "- longitude (type: float64)\n",
    "- altitute (type: float64)\n",
    "- utm_easting (type: float64)\n",
    "- utm_northing (type: float64)\n",
    "- zone (type: uint8)\n",
    "- letter (type: string)\n",
    "- hdop (type: float64)\n",
    "- gpgga_read (type: string)\n",
    "\n",
    "Uppdate package, cmakelists, and create setup.py to message generation as in ROS2 tutorial.\n",
    "Change your standalone_driver.py so that it imports the Customgps.msg message at the beginning of the file.\n",
    "Re-source your overlay (<code>install/setup.bash</code>) and re-run using <code>ros2 run gps_driver gps_driver</code> to verify everything worked.\n",
    "\n",
    "- Open a new terminal tab and source your ROS2 workspace with \n",
    "    - <code>cd ~/ros2_ws</code>\n",
    "    - <code>source install/setup.bash</code>\n",
    "- Execute your driver with <code>ros2 run gps_driver gps_driver</code>"
   ]
  },
  {
   "cell_type": "markdown",
   "id": "8235c3e8",
   "metadata": {},
   "source": [
    "### Step 2: Publish your custom message\n",
    "\n",
    "Your expanded driver should: \n",
    "- Publish lat/lon/UTM data in a custom message named Customgps.msg with the following fields and data types:\n",
    "    - header (type: Header)\n",
    "        - header.frame_id should be 'GPS1_Frame' (type: string)\n",
    "        - header.stamp.sec should be UTC **from the GPS** converted to epoch time. Please do not use system time for UTC. (type: uint16)\n",
    "        - header.stamp.nsec should be remaining nanoseconds (type: uint16). You may have a value of 0 for this, depending on your GPS unit.\n",
    "    - latitude (type: float64)\n",
    "    - longitude (type: float64)\n",
    "    - altitute (type: float64)\n",
    "    - utm_easting (type: float64)\n",
    "    - utm_northing (type: float64)\n",
    "    - zone (type: uint8)\n",
    "    - letter (type: string)\n",
    "    - hdop (type: float64)\n",
    "    - gpgga_read (type: string)\n",
    "\n",
    "Look at the example publisher code, and determine the lines that refer to a publisher node. Add these lines to your gps_driver. \n",
    "\n",
    "Make a message handle by calling Customgps() and set the fields of the message as described above. \n",
    "\n",
    "Publish the message.\n",
    "\n",
    "Test by executing your driver with <code>ros2 run gnss_driver gnss_driver</code>\n",
    "\n",
    "### Step 3: Save collected data to a ROSbag\n",
    "Congrats! You have a working publisher node!\n",
    "\n",
    "In this step, you will save the data you're reading to a ROSbag. Please check out the ROSbag notebook if you have not played with ROSbags before, and the Matplotlib notebook in Plotting notebooks if you have not used plotting tools in Python before.\n",
    "    \n",
    "In more terminal tabs:\n",
    "- <code>ros2 bag record -a</code> to record all published topics\n",
    "- <code>python3 ~/sensor_emulator/sensor_emulator.py gps_chicago.txt</code> to emulate writing to port\n",
    "- <code>ros2 run gps_driver gps_driver</code> to publish data from gps_chicago.txt\n",
    "\n",
    "If you get errors that you didn't get when running with the previous step, don't forget to <code>source</code> in every terminal window. \n",
    "\n",
    "Write another script to read your rosbag and plot UTM Northing vs. UTM Easting (all the message conventions and topics are the same as this handout). Your plot should look about the same as the example GPS_Chicago.jpg plot (will be a little different because the first value is subtracted from the dataset, not the centroid).\n",
    "\n",
    "### Step 4: Launch File\n",
    "\n",
    "The last step of the lab!\n",
    "\n",
    "Write a launch file that launches using ros2 launch and argument remapping for the serial port, instead of a hardcoded port name.\n",
    "\n",
    "You might find the ROS2 launch documentation and XML documentation handy, particularly the information about how to set parameters on the parameter server.\n",
    "\n",
    "ROS2 launch documentation: https://docs.ros.org/en/jazzy/Tutorials/Intermediate/Launch/Launch-Main.html .\n",
    "\n",
    "https://docs.ros.org/en/jazzy/How-To-Guides/Launch-file-different-formats.html .\n"
   ]
  },
  {
   "cell_type": "code",
   "execution_count": null,
   "id": "b9b72d30",
   "metadata": {},
   "outputs": [],
   "source": []
  }
 ],
 "metadata": {
  "kernelspec": {
   "display_name": "Python 3 (ipykernel)",
   "language": "python",
   "name": "python3"
  },
  "language_info": {
   "codemirror_mode": {
    "name": "ipython",
    "version": 3
   },
   "file_extension": ".py",
   "mimetype": "text/x-python",
   "name": "python",
   "nbconvert_exporter": "python",
   "pygments_lexer": "ipython3",
   "version": "3.10.9"
  }
 },
 "nbformat": 4,
 "nbformat_minor": 5
}
