{
 "cells": [
  {
   "cell_type": "markdown",
   "id": "8706aa3b",
   "metadata": {},
   "source": [
    "# EECE 5554 Lab 1: Extra Help with ROS\n",
    "\n",
    "\n",
    "This Jupyter Notebook goes through some of the sub-goals towards writing a publisher node. It assumes you already have a Python script that can:\n",
    "\n",
    "- From the serial port, read in and parse a GPGGA string into latitude, longitude, UTC, and HDOP\n",
    "- Convert latitude and longitude into UTM values using the UTM package\n",
    "\n",
    "#### Just as with the Python help notebook, this notebook contains guidance and hints, but it is not a complete step by step tutorial. You will need to put in some of your own careful thought!"
   ]
  },
  {
   "cell_type": "markdown",
   "id": "5ecdd570",
   "metadata": {},
   "source": [
    "### Step 0: Set up your Catkin workspace and make the gnss_driver package\n",
    "\n",
    "If you are comfortable with Catkin workspaces, you can go ahead and create the gnss_driver package with dependencies <code>std_msgs rospy</code>, and work on it from <code>~/catkin_ws/src/gnss_driver/src/fake_driver_name.py</code>, where fake_driver_name is the driver name specified in the Lab 1 instructions.. \n",
    "\n",
    "If you are not comfortable with Catkin workspaces, here's a step by step:\n",
    "- Go to your catkin workspace that you created in Lab 0 with <code>cd ~/catkin_ws/src</code>\n",
    "- Make a new package using the <code>catkin create pkg</code> command that you learned about in the Lab 0 ROS tutorial. You should call it <code>gnss_driver</code> and it should have the dependencies of <code>std_msgs rospy</code>. \n",
    "\n",
    "Check your <code>CMakeLists.txt</code> and <code>package.xml</code> files within <code>~/catkin_ws/src/gnss_driver</code> to make any adjustments, as you did in the ROS Lab 0 tutorial.\n",
    "\n",
    "Make directory <code>python/</code> within <code>~/catkin_ws/src/gnss_driver/</code> and migrate or create your driver file there."
   ]
  },
  {
   "cell_type": "markdown",
   "id": "5c1f176b",
   "metadata": {},
   "source": [
    "### Step 1: Make a custom GPS message\n",
    "\n",
    "Make directory <code>msg/</code> within <code>~/catkin_ws/src/gnss_driver/</code>.\n",
    "\n",
    "Using any text editor or IDE, make a custom GPS message named <code>Customgps.msg</code> within this directory with the fields as specified in Lab 1 instructions. \n",
    "\n",
    "Uppdate package and cmakelists to message generation as in ROS tutorial.\n",
    "Change your driver file so that it imports the Customgps.msg at the beginning of the file.\n",
    "Remake, re-source your <code>devel/setup.bash</code>, and re-run using <code>rosrun gnss_driver fake_driver_name.py</code> to verify everything worked. Of course, please replace fake_driver_name.\n",
    "\n",
    "- Start ROS with <code>roscore</code>\n",
    "- Open a new terminal tab and source your catkin workspace with \n",
    "    - <code>cd ~/catkin_ws></code>\n",
    "    - catkin_make\n",
    "    - <code>source devel/setup.bash</code>\n",
    "- Execute your driver with <code>rosrun gnss_driver fake_driver_name.py</code> where fake_driver_name is replaced with the driver name specified in the lab 1 instructions"
   ]
  },
  {
   "cell_type": "markdown",
   "id": "8235c3e8",
   "metadata": {},
   "source": [
    "### Step 2: Publish your custom message\n",
    "\n",
    "Your expanded driver should publish lat/lon/UTM data in a custom message named Customgps.msg as described in lab 1 instructions.\n",
    "\n",
    "Look at the example publisher code, and determine the lines that refer to a publisher node. Add these lines to your gnss_driver. \n",
    "\n",
    "Make a message handle by calling Customgps() and set the fields of the message. \n",
    "\n",
    "Publish the message.\n",
    "\n",
    "Test by executing your driver with <code>rosrun gnss_driver fake_driver_name.py</code> where fake_driver_name is changed to the name specified in the lab 1 instructions.\n",
    "\n",
    "### Step 3: Save collected data to a ROSbag\n",
    "Congrats! If you've gotten this far with no errors (or you fixed them), you have a working publisher node!\n",
    "\n",
    "In this step, you will save the data you're reading to a ROSbag. Please check out the ROSbag notebook if you have not played with ROSbags before, and the Matplotlib notebook in Plotting notebooks if you have not used plotting tools in Python before.\n",
    "    \n",
    "In more terminal tabs:\n",
    "- <code>rosbag -a</code> to record all published topics\n",
    "- <code>python3 ~/sensor_emulator/sensor_emulator.py -f gps_chicago.txt</code> to emulate writing to port\n",
    "- <code>rosrun gnss_driver fake_driver_name.py</code> to publish data from gps_chicago.txt\n",
    "\n",
    "If you get errors that you didn't get when running with the previous step, don't forget to <code>source</code> in every terminal window. \n",
    "\n",
    "Write another script to read your rosbag and plot UTM Northing vs. UTM Easting (all the message conventions and topics are the same as this handout). Matplotlib tools are great for this step.\n",
    "\n",
    "### Step 4: Launch File\n",
    "\n",
    "The last step of the lab!\n",
    "\n",
    "Write a launch file that launches using roslaunch and argument remapping for the serial port, instead of a hardcoded port name. You may find it really useful to think about using the parameter server to map these values into the node.\n",
    "\n",
    "You might find the ROSlaunch documentation and XML documentation handy, particularly the information about how to set parameters on the parameter server.\n",
    "\n",
    "ROSlaunch documentation: https://wiki.ros.org/roslaunch/ \n",
    "\n",
    "https://wiki.ros.org/roslaunch/XML \n",
    "\n",
    "Port remapping: https://wiki.ros.org/Remapping%20Arguments \n"
   ]
  },
  {
   "cell_type": "code",
   "execution_count": null,
   "id": "b9b72d30",
   "metadata": {},
   "outputs": [],
   "source": []
  }
 ],
 "metadata": {
  "kernelspec": {
   "display_name": "Python 3 (ipykernel)",
   "language": "python",
   "name": "python3"
  },
  "language_info": {
   "codemirror_mode": {
    "name": "ipython",
    "version": 3
   },
   "file_extension": ".py",
   "mimetype": "text/x-python",
   "name": "python",
   "nbconvert_exporter": "python",
   "pygments_lexer": "ipython3",
   "version": "3.8.10"
  }
 },
 "nbformat": 4,
 "nbformat_minor": 5
}
