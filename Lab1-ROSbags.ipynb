{
 "cells": [
  {
   "cell_type": "markdown",
   "id": "8706aa3b",
   "metadata": {},
   "source": [
    "# EECE 5554 Lab 1: A Little about ROSbags\n",
    "\n",
    "\n",
    "This Jupyter Notebook goes through some of the features you'll need to know to work with ROS bags. It will cover: \n",
    "- Recording to a ROS bag\n",
    "- Getting information about a ROS bag\n",
    "- Reading in ROS bags to store as other file types\n",
    "\n",
    "Of course, the documentation is always the best thing to read first: https://wiki.ros.org/rosbag/Commandline \n",
    "\n",
    "Specifically for Lab 1, you will want to check out: <br>\n",
    "Recording and playing back data tutorial: \n",
    "https://wiki.ros.org/rosbag/Tutorials/Recording%20and%20playing%20back%20data <br>\n",
    "Reading messages from bagfile tutorial: https://wiki.ros.org/rosbag/Tutorials/reading%20msgs%20from%20a%20bag%20file\n"
   ]
  },
  {
   "cell_type": "markdown",
   "id": "5ecdd570",
   "metadata": {},
   "source": [
    "### Recording to/ writing to a ROSbag\n",
    "\n",
    "There are two different ways you can write to a ROS bag: \n",
    "- Using  <code>rosbag record  /topic_1 /topic_2 … /topic_n</code> from the commandline, which will record the topic(s) you specify. The documentation has more information on relevant command line options https://wiki.ros.org/rosbag/Commandline\n",
    "\n",
    "A few examples of rosbag record: \n",
    "| <code>command</code> | What it does  |\n",
    "| :---- | :---- | \n",
    "| <code>rosbag record --duration=30 /chatter </code> | Record for 30 s on topic /chatter | \n",
    "| <code>rosbag record --split --size=1024 /chatter </code> | Record and split bags into smaller sizes of 1024 MB | \n",
    "| <code>rosbag record -a </code> | Record all topics | \n",
    "| <code>rosbag record -o /mnt/pen/ /chatter </code> | Record timestamp-named bag on topic /chatter to directory /mnt/pen (AKA, a flash drive) | \n",
    "\n",
    "- In a Python script using <code>bag.write(‘topic_name’, message)</code>. Check out this link for a short example in Python: https://wiki.ros.org/rosbag/Code%20API#py_api"
   ]
  },
  {
   "cell_type": "markdown",
   "id": "fee9ebc3",
   "metadata": {},
   "source": [
    "### Get information about a ROS bag\n",
    "\n",
    "<code>rosbag info bagname.bag</code> will tell you lots of useful info about the date the bag was collected, its size and number of messages, topic names, etc."
   ]
  },
  {
   "cell_type": "markdown",
   "id": "ae8bd411",
   "metadata": {},
   "source": [
    "### Reading rosbags to convert to other filetypes (csv, etc.)\n",
    "- Using bagpy’s bagreader class to write to a CSV: https://jmscslgroup.github.io/bagpy/index.html and  https://medium.com/theta-hat/reading-ros-messages-from-a-bagfile-in-python-b006538bb520\n",
    "- Using a Python script to read in the bag, then store the message in a CSV: https://wiki.ros.org/rosbag/Cookbook#Export_message_contents_to_CSV\n",
    "- Reading messages from a bagfile using ros_readbagfile script: https://wiki.ros.org/ROS/Tutorials/reading%20msgs%20from%20a%20bag%20file \n",
    "- Using <code>rostopic echo -b file.bag -p /topic</code><br>\n",
    "This approach is pretty slow and can only read one topic at once, so not recommended for large files or multiple topics.\n"
   ]
  },
  {
   "cell_type": "markdown",
   "id": "1a02cb9b",
   "metadata": {},
   "source": [
    "### The rosbag cookbook has several great examples of how to use the Python API for rosbags, like: \n",
    "- Timestamps and metadata\n",
    "- Cropping/splitting bags (in the case of a very large bag)\n",
    "- Exporting to CSV <br>\n",
    "Check it out! https://wiki.ros.org/rosbag/Cookbook \n"
   ]
  },
  {
   "cell_type": "code",
   "execution_count": null,
   "id": "0d1f0d67",
   "metadata": {},
   "outputs": [],
   "source": []
  }
 ],
 "metadata": {
  "kernelspec": {
   "display_name": "Python 3 (ipykernel)",
   "language": "python",
   "name": "python3"
  },
  "language_info": {
   "codemirror_mode": {
    "name": "ipython",
    "version": 3
   },
   "file_extension": ".py",
   "mimetype": "text/x-python",
   "name": "python",
   "nbconvert_exporter": "python",
   "pygments_lexer": "ipython3",
   "version": "3.10.9"
  }
 },
 "nbformat": 4,
 "nbformat_minor": 5
}
