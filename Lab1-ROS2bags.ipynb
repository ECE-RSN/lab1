{
 "cells": [
  {
   "cell_type": "markdown",
   "id": "8706aa3b",
   "metadata": {},
   "source": [
    "# EECE 5554 Lab 1: A Little about ROSbags\n",
    "\n",
    "\n",
    "This Jupyter Notebook goes through some of the features you'll need to know to work with ROSbags. It will cover: \n",
    "- Recording to a ROSbag\n",
    "- Getting information about a ROSbag\n",
    "- Reading in ROSbags to store as other file types\n",
    "\n",
    "Of course, the documentation is always the best thing to read first.\n",
    "\n",
    "Specifically for Lab 1, you will want to check out: <br>\n",
    "Recording and playing back data tutorial: \n",
    "https://docs.ros.org/en/jazzy/Tutorials/Beginner-CLI-Tools/Recording-And-Playing-Back-Data/Recording-And-Playing-Back-Data.html <br>\n",
    "Reading messages from bagfile tutorial: https://docs.ros.org/en/jazzy/Tutorials/Advanced/Recording-A-Bag-From-Your-Own-Node-Py.html\n"
   ]
  },
  {
   "cell_type": "markdown",
   "id": "5ecdd570",
   "metadata": {},
   "source": [
    "### Recording to/ writing to a ROSbag\n",
    "\n",
    "There are multiple ways you can write to a ROS bag, but we recommend this way: \n",
    "- Using  <code>ros2 bag record  /topic_1 /topic_2 … /topic_n</code> from the command line, which will record the topic(s) you specify. The documentation has more information on relevant command line options.\n",
    "\n",
    "A few examples of rosbag record: \n",
    "| <code>command</code> | What it does  |\n",
    "| :---- | :---- | \n",
    "| <code>ros2 bag record --duration=30 /chatter </code> | Record for 30 s on topic /chatter | \n",
    "| <code>ros2 bag record --split --size=1024 /chatter </code> | Record and split bags into smaller sizes of 1024 MB | \n",
    "| <code>ros2 bag record -a </code> | Record all topics | \n",
    "| <code>ros2 bag record -o /mnt/pen/ /chatter </code> | Record timestamp-named bag on topic /chatter to directory /mnt/pen (AKA, a flash drive) | \n",
    "\n",
    "- In a Python script using <code>writer.write('topic_name', serialized_msg, timestamp)</code>."
   ]
  },
  {
   "cell_type": "markdown",
   "id": "fee9ebc3",
   "metadata": {},
   "source": [
    "### Get information about a ROS bag\n",
    "\n",
    "<code>ros2 bag info bag_name</code> will tell you lots of useful info about the date the bag was collected, its size and number of messages, topic names, etc."
   ]
  },
  {
   "cell_type": "markdown",
   "id": "ae8bd411",
   "metadata": {},
   "source": [
    "### Reading rosbags to process data or convert to other filetypes (csv, etc.)\n",
    "- Using a Python script to read in the bag, then store the message in a CSV\n",
    "- Using <code>ros2 topic echo -b file.bag -p /topic</code><br>\n",
    "This approach is pretty slow and can only read one topic at once, so not recommended for large files or multiple topics.\n"
   ]
  },
  {
   "cell_type": "markdown",
   "id": "1a02cb9b",
   "metadata": {},
   "source": [
    "### The rosbag cookbook has several great examples of how to use the Python API for rosbags, like: \n",
    "- Timestamps and metadata\n",
    "- Cropping/splitting bags (in the case of a very large bag)\n",
    "- Exporting to CSV <br>\n",
    "Check it out! https://docs.ros.org/en/rolling/p/rosbag2_py \n"
   ]
  },
  {
   "cell_type": "code",
   "execution_count": null,
   "id": "0d1f0d67",
   "metadata": {},
   "outputs": [],
   "source": []
  }
 ],
 "metadata": {
  "kernelspec": {
   "display_name": "Python 3 (ipykernel)",
   "language": "python",
   "name": "python3"
  },
  "language_info": {
   "codemirror_mode": {
    "name": "ipython",
    "version": 3
   },
   "file_extension": ".py",
   "mimetype": "text/x-python",
   "name": "python",
   "nbconvert_exporter": "python",
   "pygments_lexer": "ipython3",
   "version": "3.10.9"
  }
 },
 "nbformat": 4,
 "nbformat_minor": 5
}
