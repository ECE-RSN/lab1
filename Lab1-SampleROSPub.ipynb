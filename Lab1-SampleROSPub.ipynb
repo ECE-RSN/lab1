{
 "cells": [
  {
   "cell_type": "markdown",
   "id": "84500590",
   "metadata": {},
   "source": [
    "# EECE 5554: A Sample ROS Publisher"
   ]
  },
  {
   "cell_type": "markdown",
   "id": "0d167043",
   "metadata": {},
   "source": [
    "Let's take a look at a sample Python script that generates a publisher node in ROS. If you try to run this code, it will fail, because Jupyter notebooks don't inherently know about ROS Python modules."
   ]
  },
  {
   "cell_type": "code",
   "execution_count": null,
   "id": "96c9ae58",
   "metadata": {},
   "outputs": [],
   "source": [
    "# -*- coding: utf-8 -*-\n",
    "\n",
    "import rospy\n",
    "import serial\n",
    "from math import sin, pi\n",
    "from std_msgs.msg import Float64\n",
    "from nav_msgs.msg import Odometry\n",
    "\n",
    "def paro_to_depth(pressure, latitude):\n",
    "    '''\n",
    "    Given pressure (in m fresh) and latitude (in radians) returns ocean depth (in m.).  Uses the formula discovered and presented by Leroy and Parthiot in: Claude C. Leroy and Francois Parthiot, 'Depth-pressure relationships in the oceans and seas', J. Acoustic Society of America, March 1998, p1346-.\n",
    "    '''\n",
    "    # Convert the input m/fw into MPa, as the equation expects MPa.\n",
    "    pressure = pressure * 0.0098066493\n",
    "    # Gravity at Latitude.\n",
    "    g = 9.780318 * (1 + 5.2788e-3*sin(latitude)**2 -\n",
    "                        2.36e-5*sin(latitude)**4)\n",
    "    # Now calculate the 'standard ocean' depth.\n",
    "    Zs_num = (9.72659e2*pressure - 2.512e-1*pressure**2 +\n",
    "              2.279e-4*pressure**3 - 1.82e-7*pressure**4)\n",
    "    Zs_den = g + 1.092e-4*pressure\n",
    "    return Zs_num / Zs_den\n",
    "\n",
    "if __name__ == '__main__':\n",
    "    SENSOR_NAME = \"paro\"\n",
    "    rospy.init_node('depth_paro')\n",
    "    serial_port = rospy.get_param('~port','/dev/ttyS1')\n",
    "    serial_baud = rospy.get_param('~baudrate',9600)\n",
    "    sampling_rate = rospy.get_param('~sampling_rate',5.0)\n",
    "    offset = rospy.get_param('~atm_offset',12.121) # in meter ??\n",
    "    latitude_deg = rospy.get_param('~latitude',41.526)  # deg 41.526 N is Woods Hole\n",
    "  \n",
    "    port = serial.Serial(serial_port, serial_baud, timeout=3.)\n",
    "    rospy.logdebug(\"Using depth sensor on port \"+serial_port+\" at \"+str(serial_baud))\n",
    "    rospy.logdebug(\"Using latitude = \"+str(latitude_deg)+\" & atmosphere offset = \"+str(offset))\n",
    "    rospy.logdebug(\"Initializing sensor with *0100P4\\\\r\\\\n ...\")\n",
    "    \n",
    "    sampling_count = int(round(1/(sampling_rate*0.007913)))\n",
    "    port.write('*0100EW*0100PR='+str(sampling_count)+'\\r\\n')  # cmd from 01 to 00 to set sampling period\n",
    "    rospy.sleep(0.2)        \n",
    "    line = port.readline()\n",
    "    port.write('*0100P4\\r\\n')  # cmd from 01 to 00 to sample continuously\n",
    "    \n",
    "    latitude = latitude_deg * pi / 180.\n",
    "    depth_pub = rospy.Publisher(SENSOR_NAME+'/depth', Float64, queue_size=5)\n",
    "    pressure_pub = rospy.Publisher(SENSOR_NAME+'/pressure', Float64, queue_size=5)\n",
    "    odom_pub = rospy.Publisher(SENSOR_NAME+'/odom',Odometry, queue_size=5)\n",
    "    \n",
    "    rospy.logdebug(\"Initialization complete\")\n",
    "    \n",
    "    rospy.loginfo(\"Publishing pressure and depth.\")\n",
    "    \n",
    "    odom_msg = Odometry()\n",
    "    odom_msg.header.frame_id = \"odom\"\n",
    "    odom_msg.child_frame_id = SENSOR_NAME\n",
    "    odom_msg.header.seq=0\n",
    "    \n",
    "    sleep_time = 1/sampling_rate - 0.025\n",
    "   \n",
    "    try:\n",
    "        while not rospy.is_shutdown():\n",
    "            line = port.readline()\n",
    "            #print line\n",
    "            if line == '':\n",
    "                rospy.logwarn(\"DEPTH: No data\")\n",
    "            else:\n",
    "                if line.startswith('*0001'):\n",
    "                    odom_msg.header.stamp=rospy.Time.now()                \n",
    "                    try: pressure = float(line[5:].strip())\n",
    "                    except: \n",
    "                        rospy.logwarn(\"Data exception: \"+line)\n",
    "                        continue\n",
    "                pressure_pub.publish(pressure)\n",
    "                depth_mes = paro_to_depth(pressure - offset, latitude_deg)\n",
    "                depth_pub.publish(depth_mes)\n",
    "                odom_msg.pose.pose.position.z = -depth_mes\n",
    "                odom_msg.header.seq+=0\n",
    "                odom_pub.publish(odom_msg)\n",
    "            rospy.sleep(sleep_time)\n",
    "            \n",
    "    except rospy.ROSInterruptException:\n",
    "        port.close()\n",
    "    \n",
    "    except serial.serialutil.SerialException:\n",
    "        rospy.loginfo(\"Shutting down paro_depth node...\")"
   ]
  },
  {
   "cell_type": "markdown",
   "id": "2f053941",
   "metadata": {},
   "source": [
    "That's a lot at once, so let's break it down into its pieces.\n",
    "\n",
    "### Taking it a few lines at a time"
   ]
  },
  {
   "cell_type": "code",
   "execution_count": 1,
   "id": "85646153",
   "metadata": {},
   "outputs": [],
   "source": [
    "#!/usr/bin/env python3\n",
    "# -*- coding: utf-8 -*-"
   ]
  },
  {
   "cell_type": "markdown",
   "id": "3087edbb",
   "metadata": {},
   "source": [
    "The first line is called the shebang, and you need it to tell Linux that it is a Python script. The second line specifies the character encoding."
   ]
  },
  {
   "cell_type": "code",
   "execution_count": null,
   "id": "b4012237",
   "metadata": {},
   "outputs": [],
   "source": [
    "import serial\n",
    "from math import sin, pi\n",
    "import rospy\n",
    "from std_msgs.msg import Float64\n",
    "from nav_msgs.msg import Odometry"
   ]
  },
  {
   "cell_type": "markdown",
   "id": "d1f5cfb6",
   "metadata": {},
   "source": [
    "These lines import specific ROS and Python modules we will need to run the code. "
   ]
  },
  {
   "cell_type": "code",
   "execution_count": 4,
   "id": "dbd58a5e",
   "metadata": {},
   "outputs": [],
   "source": [
    "def paro_to_depth(pressure, latitude):\n",
    "    '''\n",
    "    Given pressure (in m fresh) and latitude (in radians) returns ocean depth (in m.).  \n",
    "    Uses the formula discovered and presented by Leroy and Parthiot in: Claude C. Leroy and Francois Parthiot, \n",
    "    'Depth-pressure relationships in the oceans and seas', J. Acoustic Society of America, March 1998, p1346-.\n",
    "    '''\n",
    "    pressure_MPa = pressure_mfw * 0.0098066493\n",
    "    gravity_at_latitude = 9.780318 * (1 + 5.2788e-3*sin(latitude)**2 -\n",
    "                        2.36e-5*sin(latitude)**4) #corrects for the effects of latitutde on gravity\n",
    "    std_ocean_depth = (9.72659e2*pressure_MPa - 2.512e-1*pressure_MPa**2 +\n",
    "              2.279e-4*pressure_MPa**3 - 1.82e-7*pressure_MPa**4)\n",
    "    density = gravity_at_latitude + 1.092e-4*pressure_MPa\n",
    "    return std_ocean_depth / density"
   ]
  },
  {
   "cell_type": "markdown",
   "id": "6858ec38",
   "metadata": {},
   "source": [
    "This function converts latitude and pressure to an ocean depth. Here, we see single-line comments with #, multiline comments with ''' ''', and multi-line code. Python uses <code>**</code> instead of <code>^</code> for exponents.\n",
    "\n",
    "When you're writing code, don't forget to give good, specific variable names!"
   ]
  },
  {
   "cell_type": "code",
   "execution_count": null,
   "id": "99adff8d",
   "metadata": {},
   "outputs": [],
   "source": [
    "if __name__ == '__main__':\n",
    "    SENSOR_NAME = \"paro\"\n",
    "    rospy.init_node('depth_paro')"
   ]
  },
  {
   "cell_type": "markdown",
   "id": "a35b8290",
   "metadata": {},
   "source": [
    "The code underneath <code> if __name__ == '__main__': </code> is only executed if this file is run directly by the Python interpreter rather than being called from another script. Remember that Python is really, really specific about white space, so you need to have the same number of spaces (or tabs) for each block of code.\n",
    "\n",
    "The second line initializes the publisher node with name 'depth_paro'. You can only have one node in a rospy process, so you can only call rospy.init_node() once. "
   ]
  },
  {
   "cell_type": "code",
   "execution_count": null,
   "id": "0858f6be",
   "metadata": {},
   "outputs": [],
   "source": [
    "    serial_port = rospy.get_param('~port','/dev/ttyS1')\n",
    "    serial_baud = rospy.get_param('~baudrate',9600)\n",
    "    sampling_rate = rospy.get_param('~sampling_rate',5.0)\n",
    "    offset = rospy.get_param('~atm_offset',12.121) # in meter ??\n",
    "    latitude_deg = rospy.get_param('~latitude',41.526)  # deg 41.526 N is Woods Hole"
   ]
  },
  {
   "cell_type": "markdown",
   "id": "d4b02d73",
   "metadata": {},
   "source": [
    "Here, the ROS parameter server is being queried for the values of the serial port address, the baud rate (communication speed between computer and sensor), the sampling rate, the ATM offset, and the latitude. If those values are not set in the parameter server, the values specified with the second argument are used. More here on parameter servers: https://wiki.ros.org/Parameter%20Server"
   ]
  },
  {
   "cell_type": "code",
   "execution_count": null,
   "id": "909521b9",
   "metadata": {},
   "outputs": [],
   "source": [
    "    rospy.logdebug(\"Using depth sensor on port \" + serial_port + \" at \" + str(serial_baud))\n",
    "    rospy.logdebug(\"Using latitude = \" + str(latitude_deg) + \" & atmosphere offset = \" + str(offset))\n",
    "    rospy.logdebug(\"Initializing sensor with *0100P4\\\\r\\\\n ...\")"
   ]
  },
  {
   "cell_type": "markdown",
   "id": "e9c7032b",
   "metadata": {},
   "source": [
    "These lines post log debugging information as strings to the terminal and to the topic /rosout. More here: https://wiki.ros.org/rospy/Overview/Logging"
   ]
  },
  {
   "cell_type": "code",
   "execution_count": null,
   "id": "3e7a1204",
   "metadata": {},
   "outputs": [],
   "source": [
    "    port = serial.Serial(serial_port, serial_baud, timeout=3.)\n",
    "    \n",
    "    sampling_count = int(round(1/(sampling_rate*0.007913)))\n",
    "    port.write('*0100EW*0100PR='+str(sampling_count)+'\\r\\n')  # cmd from 01 to 00 to set sampling period\n",
    "    rospy.sleep(0.2)        \n",
    "    line = port.readline()\n",
    "    port.write('*0100P4\\r\\n')  # cmd from 01 to 00 to sample continuously"
   ]
  },
  {
   "cell_type": "markdown",
   "id": "b6fbc60e",
   "metadata": {},
   "source": [
    "__[PySerial's](https://pythonhosted.org/pyserial/)__ <code>serial.Serial</code> is set with the port address to be read from/to, the baud rate, and how long to wait before timing out.\n",
    "The script calculates how many samples are required based on the sampling rate, writes a string to the port (sending information to the sensor), waits for 0.2 seconds, reads the sensor's reply, and writes another string. We're still in setup here."
   ]
  },
  {
   "cell_type": "code",
   "execution_count": null,
   "id": "3116fb54",
   "metadata": {},
   "outputs": [],
   "source": [
    "    latitude = latitude_deg * pi / 180.\n",
    "    depth_pub = rospy.Publisher(SENSOR_NAME+'/depth', Float64, queue_size=5)\n",
    "    pressure_pub = rospy.Publisher(SENSOR_NAME+'/pressure', Float64, queue_size=5)\n",
    "    odom_pub = rospy.Publisher(SENSOR_NAME+'/odom',Odometry, queue_size=5)\n",
    "    \n",
    "    rospy.logdebug(\"Initialization complete\")\n",
    "    \n",
    "    rospy.loginfo(\"Publishing pressure and depth.\")"
   ]
  },
  {
   "cell_type": "markdown",
   "id": "25de83d0",
   "metadata": {},
   "source": [
    "Now we're creating handles for the messages we want to publish. Two publisher handles are set up, one that will publish to the topic /depth and the other to the topic /pressure. Both publishers will publish Float64 messages.\n",
    "\n",
    "Then an Odometry handle is set up to publish to topic /odom. We'll get to odometry messages later in the course.\n",
    "\n",
    "Finally, more info and debugging messages that will be automagically published to /rosout."
   ]
  },
  {
   "cell_type": "code",
   "execution_count": null,
   "id": "7d1d1e48",
   "metadata": {},
   "outputs": [],
   "source": [
    "    odom_msg = Odometry()\n",
    "    odom_msg.header.frame_id = \"odom\"\n",
    "    odom_msg.child_frame_id = SENSOR_NAME\n",
    "    odom_msg.header.seq=0\n",
    "    \n",
    "    sleep_time = 1/sampling_rate - 0.025"
   ]
  },
  {
   "cell_type": "markdown",
   "id": "da228b4d",
   "metadata": {},
   "source": [
    "The script calls <code>Odometry()</code>, which creates an Odometry message with all the appropriate fields. The header.frame_id is specified as \"odom\", the child_frame_id is the sensor name set earlier in the code, and the header.seq is 0. We'll talk more about header messages in class.\n",
    "\n",
    "At this point, the code to read and write information to the serial port is set, the publisher node has been initialized, and we have handles to publish pressure, depth, and odometry. We are ready to start publishing messages once they're read from the sensor."
   ]
  },
  {
   "cell_type": "code",
   "execution_count": null,
   "id": "33c049ba",
   "metadata": {},
   "outputs": [],
   "source": [
    "   try:\n",
    "        while not rospy.is_shutdown():\n",
    "            line = port.readline()\n",
    "            if line == '':\n",
    "                rospy.logwarn(\"DEPTH: No data\")\n",
    "            else:\n",
    "                if line.startswith('*0001'):\n",
    "                    odom_msg.header.stamp=rospy.Time.now()                \n",
    "                    try: pressure = float(line[5:].strip())\n",
    "                    except: \n",
    "                        rospy.logwarn(\"Data exception: \"+line)\n",
    "                        continue\n",
    "                pressure_pub.publish(pressure)\n",
    "                depth_mes = paro_to_depth(pressure - offset, latitude_deg)\n",
    "                depth_pub.publish(depth_mes)\n",
    "                odom_msg.pose.pose.position.z = -depth_mes\n",
    "                odom_msg.header.seq+=0\n",
    "                odom_pub.publish(odom_msg)\n",
    "            rospy.sleep(sleep_time)"
   ]
  },
  {
   "cell_type": "markdown",
   "id": "4d15e6a5",
   "metadata": {},
   "source": [
    "Finally, the script tries to execute the code underneath <code> try:</code>. \n",
    "The line <code> while not rospy.is_shutdown():</code> loops infinitely while ROS is running, continuing to publish messages at the frequency specified by <code>rospy.sleep(sleep_time)</code>. \n",
    "\n",
    "If an empty string is read from the serial port (the sensor), a warning string will be published. Otherwise, the header will be updated with the current system time, the pressure information will be published, the pressure will be converted to depth, and the depth information will also be published. Finally, the pose and header of the odometry message will be set.\n",
    "\n",
    "If an exception is thrown, it will take the action specified under the exceptions."
   ]
  },
  {
   "cell_type": "code",
   "execution_count": null,
   "id": "64849c3d",
   "metadata": {},
   "outputs": [],
   "source": [
    "    except rospy.ROSInterruptException:\n",
    "        port.close()\n",
    "    \n",
    "    except serial.serialutil.SerialException:\n",
    "        rospy.loginfo(\"Shutting down paro_depth node...\")"
   ]
  }
 ],
 "metadata": {
  "kernelspec": {
   "display_name": "Python 3 (ipykernel)",
   "language": "python",
   "name": "python3"
  },
  "language_info": {
   "codemirror_mode": {
    "name": "ipython",
    "version": 3
   },
   "file_extension": ".py",
   "mimetype": "text/x-python",
   "name": "python",
   "nbconvert_exporter": "python",
   "pygments_lexer": "ipython3",
   "version": "3.10.9"
  }
 },
 "nbformat": 4,
 "nbformat_minor": 5
}
