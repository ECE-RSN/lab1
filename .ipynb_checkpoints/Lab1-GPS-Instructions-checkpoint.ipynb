{
 "cells": [
  {
   "cell_type": "markdown",
   "id": "8706aa3b",
   "metadata": {},
   "source": [
    "# EECE 5554 Lab 1: GNSS Drivers and Data\n",
    "\n",
    "## Learning Objectives\n",
    "\n",
    "Lab 1 introduces several concepts that are critical to sensing and navigation in robotics. You will use a GNSS receiver to collect latitude and longitude data, convert latitude and longitude to UTM zone and letter, and publish this information in a custom ROS message. You will also analyze walking and stationary data that you collect.\n",
    "\n",
    "By the end of this lab, we expect that a well-prepared student will be able to: \n",
    "- Write a Python program to parse data read over USB serial \n",
    "- Convert latitude and longitude to UTM using the UTM package\n",
    "- Define a custom ROS message \n",
    "- Publish a custom message using a ROS publisher node\n",
    "- Save data using a .bag file \n",
    "\n",
    "## Information of Note\n",
    "\n",
    "### Hardware: \n",
    "- GPS puck (provided by course)\n",
    "- Laptop with sufficient battery life for at least two 10 minute data collections\n",
    "\n",
    "### Software:\n",
    "- Working Ubuntu from Lab 0\n",
    "- Working ROS installation from Lab 0\n",
    "- A serial emulator called Minicom: https://help.ubuntu.com/community/Minicom. Get it using <code> sudo apt install minicom </code>\n",
    "- Turbo87's package for converting between lat/long and UTM: https://github.com/Turbo87/utm . Get it using <code> pip3 install utm</code>\n",
    "- The course sensor emulator. Get it using <code> git clone https://github.com/ECE-RSN/sensor_emulator </code>\n",
    "- The course Lab 1 autograder and examples. Get them using <code> git clone https://github.com/ECE-RSN/lab1 </code>\n",
    "- (Optional but recommended): A modern integrated development environment (IDE) like VS: https://code.visualstudio.com/docs/setup/linux\n",
    "\n",
    "### The GNSS driver:\n",
    "During this lab, you will write a driver that:\n",
    "- Reads the string the GNSS puck outputs from the serial port\n",
    "- Breaks this string into useful information (latitude, longitude, etc.)\n",
    "- Converts the string to specified ROS formats for lat, lon, UTM easting, and UTM northing\n",
    "- Merges the information into a custom message\n",
    "- Publishes the message\n",
    "\n",
    "### Individual and team work: \n",
    "Individual work: Write your own device driver for data acquisition and collect datasets. <br>\n",
    "Team work: Share the GPS based GNSS puck after you have tested with the emulator\n",
    "\n",
    "### Data sets: \n",
    "- One 5 minute .bag with stationary data in an open area (e.g., no trees or buildings within 10 m). Ideally, you will be close to some landmark where you can find the lat/long/alt coordinates.\n",
    "- One 5 minute .bag with stationary data in an occluded area (e.g., trees or buildings nearby). Ideally, you will be close to some landmark where you can find the lat/long/alt coordinates.\n",
    "- One .bag recording as you walk approximately 200 m in a straight line. Ideally, this dataset will include occluded and open areas, but anything is OK. Please make sure you make a note of this location and your start and end positions!\n",
    "\n",
    "### Repository structure:\n",
    "\n",
    "You will need to follow the naming convention laid out here to have an appropriate structure that can be checked by the Lab 1 autograder and to receive credit for your work. Please make sure you are following these conventions **exactly**-- spaces and capitalization matter!\n",
    "\n",
    "Your Github repo should look like the table below. **Please note that your build and devel directories should not be pushed to Git!**\n",
    "\n",
    "\n",
    "| EECE5554 | | | | | |\n",
    "| :----- | :----- | :----- | :----- | :----- | :----- |\n",
    "| | gnss/ | | | | |\n",
    "| | | src/ | | | |\n",
    "| | | | gps_driver/ | | |\n",
    "| | | | | CMakeLists.txt | |\n",
    "| | | | | package.xml | |\n",
    "| | | | | python/ | | \n",
    "| | | | | | standalone_driver.py | \n",
    "| | | | | msg/ | | \n",
    "| | | | | | Customgps.msg | \n",
    "| | | | | launch/ | | \n",
    "| | | | | | standalone_driver.launch |\n",
    "| | | analysis/ | | | |\n",
    "| | | | your analysis scripts | | |\n",
    "| | | data/ | | | |\n",
    "| | | | your .bag files | | |"
   ]
  },
  {
   "cell_type": "markdown",
   "id": "f72d04e4",
   "metadata": {},
   "source": [
    "### What, where, and how to submit: \n",
    "\n",
    "Pust your driver and other files to your Github repo. Post your plots to the Lab 1 “quiz” listed on Canvas. No time limit, as many re-tries as you like, we’re just using the “quiz” structure because it gives easy file uploads + free response spaces."
   ]
  },
  {
   "cell_type": "markdown",
   "id": "60b00351",
   "metadata": {},
   "source": [
    "## Onto the Lab!\n",
    "\n",
    "<div class=\"alert alert-block alert-info\">\n",
    "<b>Linux Reminder:</b> If you want to understand any command in the Linux terminal, you can type the following in the terminal: <code> man command_name </code>\n",
    "</div>"
   ]
  },
  {
   "cell_type": "markdown",
   "id": "5cbed95c",
   "metadata": {},
   "source": [
    "### Step 1: Write a Python script to read data from your GPS puck and convert to UTM\n",
    "\n",
    "If you have experience writing Python scripts and/or ROS nodes, you can forge ahead. Otherwise, you might want to check out some of the other notebooks in Lab 1's directory for additional help with writing Python scripts, ROS publishers, ROS messages, and ROS bags. The Lab1_Pythonhelp notebook breaks down the steps below into manageable chunks related to Python, Lab1_ROShelp notebook breaks down the steps of a ROS publisher, and Lab1_SampleROSPub breaks down the components of an example ROS publisher node written in Python. Check them out!\n",
    "\n",
    "Your complete driver should: \n",
    "- Read in and parse a GPGGA string into latitude, longitude, UTC, and HDOP\n",
    "- Convert latitude and longitude into UTM values using the UTM package specified in \"software\" above\n",
    "- Publish lat/lon/UTM data in a custom message named Customgps.msg with the following fields and data types:\n",
    "    - header (type: Header)\n",
    "        - header.frame_id should be 'GPS1_Frame' (type: string)\n",
    "        - header.stamp.sec should be UTC **from the GPS sensor** converted to epoch time. Please do not use system time for UTC, but you will need to use system time to get epoch time to the current day. (type: uint32)\n",
    "        - header.stamp.nsec should be remaining nanoseconds (type: uint32). You may have a value of 0 for this, depending on your GPS unit.\n",
    "    - latitude (type: float64)\n",
    "    - longitude (type: float64)\n",
    "    - altitute (type: float64)\n",
    "    - utm_easting (type: float64)\n",
    "    - utm_northing (type: float64)\n",
    "    - zone (type: uint8)\n",
    "    - letter (type: string)\n",
    "    - hdop (type: float64)\n",
    "    - gpgga_read (type: string, this should be the actual string you read from the puck)\n",
    "- Publish the custom message to topic named '/gps'\n",
    "- Be launched from roslaunch using <code>roslaunch standalone_driver.launch port:=''any_port_name''</code>\n",
    "\n",
    "If you want some help with those steps, please see the Lab1_Pythonhelp and Lab1_ROShelp notebooks.\n",
    "\n",
    "Please remember that you'll need to update your CMakeLists.txt and package.xml to find your custom message. "
   ]
  },
  {
   "cell_type": "markdown",
   "id": "85b0ffca",
   "metadata": {},
   "source": [
    "### Step 2: Set up your system to read data from the serial port\n",
    "\n",
    "- Install Minicom and clone the sensor emulator repo as described in \"software\" above\n",
    "- Configure Minicom's settings: \n",
    "    - <code>sudo chmod 777 /etc/minicom</code>\n",
    "    - <code>minicom -s</code>\n",
    "    - In Minicom's window, change the bps/par/bits to 4800 (the baud rate)\n",
    "    - Change Hardware Flow Control to \"no\"\n",
    "    - Save settings as default\n",
    "    - Run minicom with <code>minicom</code> to see the strings the emulator is writing to the port\n",
    "- Run the sensor emulator and verify you can see appropriate strings through Minicom. Please see the sensor emulator readme on Github if you're not sure how to run it, or you can run <code>python3 sensor_emulator -h</code>.\n",
    "\n",
    "\n",
    "- Set up the GPS puck settings\n",
    "    - Plug in your GPS puck and accept any popups if you are running on a VM\n",
    "    - In terminal, list the devices with <code> ls –lt /dev/tty* | head</code>. You will see a list of devices from which you have to figure out your device file identifier. Let us say it is  <code>/dev/ttyUSB2</code>\n",
    "    - Set the read write permissions for reading the device properly: <code>sudo chmod 777 /dev/ttyUSB2</code>\n",
    "    \n",
    "- Close Minicom before beginning testing with your driver"
   ]
  },
  {
   "cell_type": "markdown",
   "id": "2d0cb4a0",
   "metadata": {},
   "source": [
    "### Step 3: Write a launch file and make the driver accept any port\n",
    "\n",
    "Steps 3-5 will be necessary for completing the assignment, but you can collect and run data analysis first (step 5) and finish this later. There is a very strong advantage to finishing these steps first, since you know you will be collecting good data!\n",
    "\n",
    "Add a feature to run your driver with some argument that contains the path to the serial port of the GPS puck (example: /dev/ttyUSB2). This step allows us to connect it to any port without the script failing.\n",
    "\n",
    "Even though this driver is now more modular, on a real robot we can have many sensors, so we want to write files that will launch multiple nodes at once. This is where we shall use the power of ROS.\n",
    "\n",
    "Create a launch file called <code>standalone_driver.launch</code> in <code>~/catkin_ws/src/gps_driver/launch/</code>. This launch file should be able to take in an argument called “port” which we will specify for the puck’s port. Your driver should be able to be launched from the terminal with <code>roslaunch standalone_driver.launch port:=\"any_port_name\"</code>. "
   ]
  },
  {
   "cell_type": "markdown",
   "id": "df48fe51",
   "metadata": {},
   "source": [
    "### Step 4: Push everything to your Github repo (but exclude build and devel directories!)\n",
    "\n",
    "Once you've both committed and pushed, make sure you can see the files on your Github repo."
   ]
  },
  {
   "cell_type": "markdown",
   "id": "8b05226d",
   "metadata": {},
   "source": [
    "### Step 5: Use the Lab 1 autograder to check your work\n",
    "\n",
    "If you get a success message, you're done, congrats! If something failed, follow up on the error. Definitely make sure your Github repo structure looks right.\n"
   ]
  },
  {
   "cell_type": "markdown",
   "id": "4bfd7577",
   "metadata": {},
   "source": [
    "### Step 6: Collect GNSS data\n",
    "\n",
    "In separate rosbag recordings, you should collect three data sets: \n",
    "- 5 minutes of data in an open spot far away from buildings, trees, etc. Make sure you are in a known location, and use its coordinates on Google Earth as the “known” position.\n",
    "- 5 minutes of data in an occluded spot near buildings or trees, but where you can still collect GPGGA strings. Make sure you are in a known location and use its coordinates on Google Earth as the “known” position.\n",
    "- Data collected while walking in a straight line for 200-300 m. Make sure you note your start and end positions."
   ]
  },
  {
   "cell_type": "markdown",
   "id": "1204cd7c",
   "metadata": {},
   "source": [
    "### Step 7: Analyze your collected data sets\n",
    "\n",
    "Subtract the first point from each data set to remove the easting and northing offset. Then, find the centroid of each data set, the deviation in easting, and the deviation in northing. Want some more help? See the stats notebook and here: https://www.gnss.ca/app_notes/APN-029_GPS_Position_Accuracy_Measures_Application_Note.html\n",
    "\n",
    "Make the following plots: \n",
    "- Stationary northing vs. easting scatterplots (open and occluded on same fig with different markers)\n",
    "    - Plot after subtracting the centroid from each data point\n",
    "    - Indicate the centroid value in easting and northing somewhere on the plot or text\n",
    "- Stationary altitude vs. time plot (open and occluded on same fig with different markers) \n",
    "- Stationary histogram plots for position (open and occluded on different figs) \n",
    "    - Calculate the Euclidean distance from each point to your centroid and plot these values in the histogram \n",
    "- Moving data northing vs. easting scatterplot with line of best fit (open and occluded on same fig with different markers)\n",
    "- Moving data altitude vs. time plot (open and occluded on same fig with different markers) \n",
    "\n",
    "Plots should ALWAYS include axis labels, units, and legends for more than one dataset. These values will be an important part of your score. You will further discuss your data analysis in Lab 2.\n",
    "\n",
    "Please use the Canvas Lab1 quiz to upload your plots."
   ]
  },
  {
   "cell_type": "markdown",
   "id": "2c2b5771",
   "metadata": {},
   "source": [
    "### Lab Scoring\n",
    "\n",
    "| Driver | 50 pct | Points | \n",
    "| :---- | :---- | :---- |\n",
    "| | GPGGA string parsing | 10 | \n",
    "| | Converts lat/lon to decimal | 10 | \n",
    "| | Converts decimal to UTM | 10 | \n",
    "| | Correct time handling | 10 | \n",
    "| | Correct ROS message structure | 10 | \n",
    "| Data analysis | 50 pct | | \n",
    "| | Stationary northing vs. easting scatterplot (open and occluded on same fig) | 10 | \n",
    "| | Stationary altitude plot (open and occluded on same fig) | 10 | \n",
    "| | Stationary histogram plots (open and occluded on same fig) | 10 | \n",
    "| | Moving data scatterplot | 10 | \n",
    "| | Moving data altitude | 10 | "
   ]
  },
  {
   "cell_type": "code",
   "execution_count": null,
   "id": "289add00",
   "metadata": {},
   "outputs": [],
   "source": []
  }
 ],
 "metadata": {
  "kernelspec": {
   "display_name": "Python 3 (ipykernel)",
   "language": "python",
   "name": "python3"
  },
  "language_info": {
   "codemirror_mode": {
    "name": "ipython",
    "version": 3
   },
   "file_extension": ".py",
   "mimetype": "text/x-python",
   "name": "python",
   "nbconvert_exporter": "python",
   "pygments_lexer": "ipython3",
   "version": "3.8.10"
  }
 },
 "nbformat": 4,
 "nbformat_minor": 5
}
