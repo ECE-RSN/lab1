{
 "cells": [
  {
   "cell_type": "markdown",
   "id": "8706aa3b",
   "metadata": {},
   "source": [
    "# EECE 5554 Lab 1: Extra Help with Python\n",
    "\n",
    "\n",
    "This Jupyter Notebook goes through some of the sub-goals towards writing a driver:\n",
    "\n",
    "- Read in and parse a GPGGA string into latitude, longitude, UTC, and HDOP\n",
    "- Convert latitude and longitude into UTM values using the UTM package specified in \"software\" above\n",
    "\n",
    "The ROShelp notebook covers:\n",
    "- Publish lat/lon/UTM data in a custom message named Customgps.msg\n",
    "- Be launched from roslaunch using <code>roslaunch gps_driver.launch port:=''any_port_name''</code>\n",
    "\n",
    "It is OK if you have not used Python before. You will find resources like the ThinkPython textbook written by Prof. Allen Downey useful (which has extra, and very awesome, Jupyter Notebooks in addition to this one, all FOR FREEEEEEE). https://greenteapress.com/wp/think-python-2e/\n",
    "\n",
    "Please also remember that TA hours and office hours are available for help with general course/material questions, as well as to help you make a plan to stay on track with new material.\n",
    "\n",
    "If you want to follow along in code with this tutorial, you should clone this repo and open this notebook with Jupyter. Otherwise, you can just read through the code on Github.\n",
    "\n",
    "We'll start by installing the modules we need for this notebook. You will not need to include these lines in your actual driver code. Make sure you run the code below."
   ]
  },
  {
   "cell_type": "code",
   "execution_count": null,
   "id": "a6e6c815",
   "metadata": {},
   "outputs": [],
   "source": [
    "import sys #You will not need to include this line in your driver file\n",
    "!{sys.executable} -m pip install utm #You will not need to include this line in your driver file\n",
    "!{sys.executable} -m pip install pyserial #You will not need to include this line in your driver file"
   ]
  },
  {
   "cell_type": "markdown",
   "id": "045842d6",
   "metadata": {},
   "source": [
    "Let's break our driver goals into sub steps, starting with breaking the string into useful information. \n",
    "\n",
    "### Step 1: Finding a GPGGA string\n",
    "\n",
    "Your GNSS driver will write a string to the serial port that looks like this: \n",
    "\n",
    "**$GPGGA,202530.00,5109.0262,N,11401.8407,W,5,40,0.5,1097.36,M,-17.00,M,18,TSTR*61**\n",
    "\n",
    "This is called a GPGGA string. More info here: https://docs.novatel.com/OEM7/Content/Logs/GPGGA.htm\n",
    "\n",
    "Directly below, modify the Python function <code>isGPGGAinString</code> so that it checks to see whether the string that it has been passed contains the characters '$GPGGA', prints 'Great success!' if it does, and prints 'GPGGA not found in string' if it doesn't. You might find this documentation page helpful to find a method that checks whether a string is present within a string: https://www.w3schools.com/python/python_ref_string.asp"
   ]
  },
  {
   "cell_type": "code",
   "execution_count": null,
   "id": "e5660176",
   "metadata": {},
   "outputs": [],
   "source": [
    "def isGPGGAinString(inputString):\n",
    "    if 1 == 1: #replace 1 == 1 with condition to be checked for inputString\n",
    "        print('')\n",
    "    else:\n",
    "        print('')"
   ]
  },
  {
   "cell_type": "markdown",
   "id": "5dc2748b",
   "metadata": {},
   "source": [
    "Now check your function by setting stringReadfromPort as the example GPGGA string. Re-test it by replacing the GPGGA string with something that doesn't contain the GPGGA string. You will need to hit the \"run\" button on both your function definition and your GPGGA string code below to check."
   ]
  },
  {
   "cell_type": "code",
   "execution_count": null,
   "id": "83547648",
   "metadata": {},
   "outputs": [],
   "source": [
    "stringReadfromPort = ''\n",
    "isGPGGAinString(stringReadfromPort)"
   ]
  },
  {
   "cell_type": "markdown",
   "id": "2c1225b8",
   "metadata": {},
   "source": [
    "### Step 2: Separate the fields within the GPGGA string (latitude, longitude, etc.)\n",
    "\n",
    "Our goal here is to separate the string \n",
    "**$GPGGA,202530.00,5109.0262,N,11401.8407,W,5,40,0.5,1097.36,M,-17.00,M,18,TSTR*61**\n",
    "into UTC = 202530.00, Latitude = 51deg, 09.0262 minutes N, etc.\n",
    "The Python reference linked in Step 1 has another method that will help break the GPGGA string into these parts at its separator, the \",\"\n",
    "\n",
    "Write some more code below that separates the GPGGA string into its parts as a list"
   ]
  },
  {
   "cell_type": "code",
   "execution_count": null,
   "id": "7eb9cbc2",
   "metadata": {},
   "outputs": [],
   "source": [
    "gpggaRead = '$GPGGA,202530.00,5109.0262,N,11401.8407,W,5,40,0.5,1097.36,M,-17.00,M,18,TSTR*61'\n",
    "gpggaSplit = [] #Put code here that will split gpggaRead into its components. This should only take one line.\n",
    "print(gpggaSplit)"
   ]
  },
  {
   "cell_type": "markdown",
   "id": "63b380b7",
   "metadata": {},
   "source": [
    "Run your code to check your solution and make sure there's no errors. \n",
    "\n",
    "Now we need to assign our Latitude, Longitude, etc. variables to elements of the gpggaSplit list. If you're not sure how to do this, please look at this documentation: \n",
    "https://www.w3schools.com/python/python_lists.asp"
   ]
  },
  {
   "cell_type": "code",
   "execution_count": null,
   "id": "524d6fcb",
   "metadata": {},
   "outputs": [],
   "source": [
    "#Replace the 0s with some reference to gpggaSplit\n",
    "UTC = 0\n",
    "Latitude = 0\n",
    "LatitudeDir = 0\n",
    "Longitude = 0\n",
    "LongitudeDir = 0\n",
    "HDOP = 0\n",
    "print(UTC)"
   ]
  },
  {
   "cell_type": "markdown",
   "id": "94787284",
   "metadata": {},
   "source": [
    "Run your code to check your solution and make sure there's no errors. UTC should update to 202530.00. \n",
    "\n",
    "Remember that we need to have numeric datatypes, but the code above will give us a list of strings. \n",
    "\n",
    "Please read this documentation if you're not familiar with data types in Python to figure out a way to convert from strings to the other data types we need. https://www.w3schools.com/python/python_datatypes.asp\n",
    "\n",
    "Below, re-write the code you wrote above so that each variable is the correct data type"
   ]
  },
  {
   "cell_type": "code",
   "execution_count": null,
   "id": "442dd4e1",
   "metadata": {},
   "outputs": [],
   "source": [
    "#Replace the 0s with some reference to gpggaSplit\n",
    "UTC = 0 #float\n",
    "Latitude = 0 #float\n",
    "LatitudeDir = 0 #string\n",
    "Longitude = 0 #float\n",
    "LongitudeDir = 0 #string\n",
    "HDOP = 0 #float\n",
    "print(UTC)"
   ]
  },
  {
   "cell_type": "markdown",
   "id": "ef90c243",
   "metadata": {},
   "source": [
    "### Step 3: Convert Latitude and Longitude into DD.dddd format\n",
    "\n",
    "Latitude and longitude are output from the puck in the format DDmm.mm (degrees, then minutes), but we need it to be in the form DD.dddd (decimal degrees) for the UTM package. \n",
    "\n",
    "Modify the function shell below to convert from DDmm.mm to DD.dddd\n"
   ]
  },
  {
   "cell_type": "code",
   "execution_count": null,
   "id": "93f452cd",
   "metadata": {},
   "outputs": [],
   "source": [
    "def degMinstoDegDec(LatOrLong):\n",
    "    deg = 0 #Replace 0 with a line of code that gets just the degrees from LatOrLong\n",
    "    mins = 0 #Replace 0 with a line of code that gets just the minutes from LatOrLong\n",
    "    degDec = 0 #Replace 0 with a line of code that converts minutes to decimal degrees\n",
    "    print(deg+degDec)\n",
    "    return (deg+degDec)\n",
    "\n",
    "degMinstoDegDec(Latitude)\n",
    "degMinstoDegDec(Longitude)"
   ]
  },
  {
   "cell_type": "markdown",
   "id": "4e5a3c9a",
   "metadata": {},
   "source": [
    "Finally, the latitude and longitude should conform to convention where west or south have negative values, and east and north have positive values. Write a short function to check <code>LatitudeDir</code> or <code>LongitudeDir</code> and convert the value as necessary. "
   ]
  },
  {
   "cell_type": "code",
   "execution_count": null,
   "id": "197a39e9",
   "metadata": {},
   "outputs": [],
   "source": [
    "def LatLongSignConvetion(LatOrLong, LatOrLongDir):\n",
    "    if LatOrLongDir == \"\": #Replace the blank string with a value\n",
    "        0 #some code here that applies negative convention\n",
    "        print(LatOrLong)\n",
    "    return LatOrLong\n",
    "\n",
    "LatitudeSigned = LatLongSignConvetion(Latitude, LatitudeDir)\n",
    "LongitudeSigned = LatLongSignConvetion(Longitude, LongitudeDir)"
   ]
  },
  {
   "cell_type": "markdown",
   "id": "3bd370da",
   "metadata": {},
   "source": [
    "Use an online calculator to check your results from the notebook with both the latitude and longitude components of the GPGGA string"
   ]
  },
  {
   "cell_type": "markdown",
   "id": "4b1aa898",
   "metadata": {},
   "source": [
    "### Step 4: Convert Latitude and Longitude to UTM Easting, Northing, Zone, and Letter\n",
    "\n",
    "You will install the UTM package to convert Latitude and Longitude to UTM values. Check out its README: https://github.com/Turbo87/utm/blob/master/README.rst\n",
    "\n",
    "Please run the code below as is to install utm in this notebook. You will also need to install it on your Ubuntu installation using <code> pip -m install utm</code>\n",
    "\n",
    "After reading the UTM README, use the method <code>utm.fromlatlon<code> to get UTM Easting, Northing, Zone, and Letter."
   ]
  },
  {
   "cell_type": "code",
   "execution_count": null,
   "id": "5d0486f5",
   "metadata": {},
   "outputs": [],
   "source": [
    "import utm\n",
    "\n",
    "def convertToUTM(LatitudeSigned, LongitudeSigned):\n",
    "    UTMVals = utm.from_latlon(LatitudeSigned, LongitudeSigned)\n",
    "    UTMEasting = 0 #Again, replace these with values from UTMVals\n",
    "    UTMNorthing = 0 \n",
    "    UTMZone = 0\n",
    "    UTMLetter = ''\n",
    "    print(UTMVals)\n",
    "    return [UTMEasting, UTMNorthing, UTMZone, UTMLetter]"
   ]
  },
  {
   "cell_type": "markdown",
   "id": "7c076945",
   "metadata": {},
   "source": [
    "Check your Latitude, Longitude, and UTM Values with an online calculator to make sure everything looks good."
   ]
  },
  {
   "cell_type": "markdown",
   "id": "eeea1942",
   "metadata": {},
   "source": [
    "### Step 5: Convert UTC to time needed by ROS\n",
    "\n",
    "ROS's convention for time is epoch time: https://en.wikipedia.org/wiki/Unix_time <br>\n",
    "Our GPS puck gives us UTC from the beginning of the day: https://en.wikipedia.org/wiki/Coordinated_Universal_Time\n",
    "        \n",
    "We need to convert UTC to epoch time. Modify the function below to get epoch time from the beginning of the day, and then add UTC. \n",
    "\n",
    "Check out this documentation, and be sure to look at localtime() and gmtime()\n",
    "https://docs.python.org/3/library/time.html#module-time"
   ]
  },
  {
   "cell_type": "code",
   "execution_count": null,
   "id": "2bb2888c",
   "metadata": {},
   "outputs": [],
   "source": [
    "import time \n",
    "\n",
    "def UTCtoUTCEpoch(UTC):\n",
    "    TimeSinceEpoch = 0 #Replace with a 1-line method to get time since epoch in UTC\n",
    "    CurrentTime = TimeSinceEpoch + UTC\n",
    "    CurrentTimeSec = 0 #Replace with a 1-line calculation to get total seconds as an integer\n",
    "    CurrentTimeNsec = 0 #Replace with a 1-line calculation to get nanoseconds as an integer (between CurrentTime and CurrentTimeSec )\n",
    "    print(CurrentTime)\n",
    "    return [CurrentTimeSec, CurrentTimeNsec]\n",
    "\n",
    "CurrentTime = UTCtoUTCEpoch(UTC)"
   ]
  },
  {
   "cell_type": "markdown",
   "id": "9c694a43",
   "metadata": {},
   "source": [
    "### Step 6: Read strings from serial port\n",
    "\n",
    "You will need to do the setup step 2 in the lab before completing this section. \n",
    "\n",
    "So far, we have been using one example GPGGA string, but we want to read GPGGA strings every second to update GPS position. In this last section, you will write code to read from the serial port. \n",
    "\n",
    "Check out the PySerial documentation: https://pythonhosted.org/pyserial/\n",
    "Then change the function below to read from the serial port\n",
    "\n",
    "Please note that while we worked on this part last in the notebook, you will need to read a string FIRST before doing any other calculations."
   ]
  },
  {
   "cell_type": "code",
   "execution_count": null,
   "id": "eb2fb4b0",
   "metadata": {},
   "outputs": [],
   "source": [
    "#This code may not work with the Jupyter notebook\n",
    "import serial\n",
    "\n",
    "def ReadFromSerial(serialPortAddr):\n",
    "    serialPort = serial.Serial(serialPortAddr) #This line opens the port, do not modify\n",
    "    gpggaRead = '' #Replace this line with a 1-line code to read from the serial port\n",
    "    print(gpggaRead)\n",
    "    serialPort.close() #Do not modify\n",
    "    return gpggaRead\n",
    "\n",
    "serialPortAddr = '' #You will need to change this to the emulator or GPS puck port\n",
    "gpggaRead = ReadFromSerial(serialPortAddr) #Do not modify"
   ]
  },
  {
   "cell_type": "markdown",
   "id": "178b7025",
   "metadata": {},
   "source": [
    "Congrats! You are basically done with the Python component of the driver. You should move your code here to a .py file and test it on your Ubuntu installation. \n",
    "\n",
    "The driver's name should be gps_driver.py. If this course is your first time working with Catkin, you can start working on the Python script outside of Catkin (we'll do that later) by \n",
    "- <code>cd ~/</code>\n",
    "- <code> nano gps_driver.py</code>, or replace <code>nano</code> with whatever IDE you're using.\n",
    "\n",
    "If you are comfortable with Catkin workspaces, you can go ahead and create the gps_driver package with dependencies <code>std_msgs rospy</code>, and work on it from <code>~/catkin_ws/src/gps_driver/src/gps_driver.py</code>. \n",
    "\n",
    "Your Python file should look like:\n",
    "    \n",
    "    import modules (any that we imported above, except for sys)\n",
    "    \n",
    "    function definitions (from above)\n",
    "    \n",
    "    Output of UTM Easting, Northing, etc.\n",
    "    \n",
    "Once you have all that working with the serial emulator and can successfully run it with <code>python3 gps_driver.py</code>, we can move onto the ROS part of the driver in the ROShelp notebook."
   ]
  }
 ],
 "metadata": {
  "kernelspec": {
   "display_name": "Python 3 (ipykernel)",
   "language": "python",
   "name": "python3"
  },
  "language_info": {
   "codemirror_mode": {
    "name": "ipython",
    "version": 3
   },
   "file_extension": ".py",
   "mimetype": "text/x-python",
   "name": "python",
   "nbconvert_exporter": "python",
   "pygments_lexer": "ipython3",
   "version": "3.10.9"
  }
 },
 "nbformat": 4,
 "nbformat_minor": 5
}
